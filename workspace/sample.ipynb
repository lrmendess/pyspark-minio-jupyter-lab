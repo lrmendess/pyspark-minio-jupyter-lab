{
 "cells": [
  {
   "cell_type": "code",
   "execution_count": null,
   "id": "cce021d9-0090-4456-af93-cc67ee1f5008",
   "metadata": {},
   "outputs": [],
   "source": [
    "import pyspark.sql.functions as F\n",
    "from pyspark.sql import SparkSession"
   ]
  },
  {
   "cell_type": "code",
   "execution_count": null,
   "id": "5e70e326-0ada-4a27-9634-114d887ae3cc",
   "metadata": {
    "scrolled": true
   },
   "outputs": [],
   "source": [
    "spark = SparkSession.builder \\\n",
    "    .appName(\"pyspark-sample\") \\\n",
    "    .config(\"spark.executor.instances\", \"2\") \\\n",
    "    .config(\"spark.executor.memory\", \"2g\") \\\n",
    "    .config(\"spark.sql.shuffle.partitions\", \"500\") \\\n",
    "    .config(\"spark.memory.fraction\", \"0.9\") \\\n",
    "    .getOrCreate()"
   ]
  },
  {
   "cell_type": "code",
   "execution_count": null,
   "id": "dc50646a-3f09-4f4e-9b71-47b6824b65c1",
   "metadata": {},
   "outputs": [],
   "source": [
    "df = spark.range(0, 100_000_000)\n",
    "df = df.withColumn(\"content\", F.lit(\"Anything\"))"
   ]
  },
  {
   "cell_type": "code",
   "execution_count": null,
   "id": "b407cea2-2b9c-4fdc-8468-6e5efc8398b9",
   "metadata": {},
   "outputs": [],
   "source": [
    "df = df.repartition(10)"
   ]
  },
  {
   "cell_type": "code",
   "execution_count": null,
   "id": "d022b16f-d719-4b13-8b7c-cf5696f0557d",
   "metadata": {},
   "outputs": [],
   "source": [
    "(\n",
    "    df.write\n",
    "    .format(\"parquet\")\n",
    "    .mode(\"append\")\n",
    "    .save(\"s3a://my-first-bucket/anything\")\n",
    ")"
   ]
  }
 ],
 "metadata": {
  "kernelspec": {
   "display_name": "Python 3 (ipykernel)",
   "language": "python",
   "name": "python3"
  },
  "language_info": {
   "codemirror_mode": {
    "name": "ipython",
    "version": 3
   },
   "file_extension": ".py",
   "mimetype": "text/x-python",
   "name": "python",
   "nbconvert_exporter": "python",
   "pygments_lexer": "ipython3",
   "version": "3.9.2"
  }
 },
 "nbformat": 4,
 "nbformat_minor": 5
}
